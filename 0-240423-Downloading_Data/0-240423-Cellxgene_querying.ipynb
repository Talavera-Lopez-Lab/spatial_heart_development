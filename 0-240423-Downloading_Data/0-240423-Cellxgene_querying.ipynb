{
 "cells": [
  {
   "cell_type": "markdown",
   "metadata": {},
   "source": [
    "\n",
    "# Querying and Formatting Cellxgene Spatial Heart Datasets\n",
    "\n",
    "[Cellxgene Datasets](https://cellxgene.cziscience.com/datasets)\n",
    "\n",
    "- Developed by: Christian Eger\n",
    "- Würzburg Institute for Systems Immunology - Faculty of Medicine - Julius Maximilian Universität Würzburg\n",
    "- Created on: 2402423\n",
    "- Last modified: 240423"
   ]
  },
  {
   "cell_type": "markdown",
   "metadata": {},
   "source": [
    "**Environment:** conda_environments/cellxgene-env.yml\n",
    "\n",
    "```bash\n",
    "mamba create -n cellxgene-env python=3.10\n",
    "mamba activate cellxgene-env\n",
    "pip install -U cellxgene-census\n",
    "```"
   ]
  },
  {
   "cell_type": "markdown",
   "metadata": {},
   "source": [
    "## Import modules"
   ]
  },
  {
   "cell_type": "code",
   "execution_count": 2,
   "metadata": {},
   "outputs": [],
   "source": [
    "import cellxgene_census"
   ]
  }
 ],
 "metadata": {
  "kernelspec": {
   "display_name": "cellxgene-env",
   "language": "python",
   "name": "python3"
  },
  "language_info": {
   "codemirror_mode": {
    "name": "ipython",
    "version": 3
   },
   "file_extension": ".py",
   "mimetype": "text/x-python",
   "name": "python",
   "nbconvert_exporter": "python",
   "pygments_lexer": "ipython3",
   "version": "3.10.14"
  }
 },
 "nbformat": 4,
 "nbformat_minor": 2
}
