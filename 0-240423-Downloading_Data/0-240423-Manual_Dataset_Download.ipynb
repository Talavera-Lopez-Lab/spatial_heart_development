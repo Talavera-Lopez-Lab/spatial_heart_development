{
 "cells": [
  {
   "cell_type": "markdown",
   "metadata": {},
   "source": [
    "# Manually collecting list of suitable experiments and downloading them\n",
    "[Cellxgene Datasets](https://cellxgene.cziscience.com/datasets)<br>\n",
    "\n",
    "CZ CELLxGENE Discover: A single-cell data platform for scalable exploration, analysis and modeling of aggregated data CZI Single-Cell Biology, et al. bioRxiv 2023.10.30; doi: https://doi.org/10.1101/2023.10.30.563174\n",
    "- Developed by: Christian Eger\n",
    "- Würzburg Institute for Systems Immunology - Faculty of Medicine - Julius Maximilian Universität Würzburg\n",
    "- Created on: 2402423\n",
    "- Last modified: 240424"
   ]
  },
  {
   "cell_type": "markdown",
   "metadata": {},
   "source": [
    "## Environment\n",
    "**yaml path:** conda_environments/cellxgene-env.yml"
   ]
  },
  {
   "cell_type": "markdown",
   "metadata": {},
   "source": [
    "## Import modules"
   ]
  },
  {
   "cell_type": "code",
   "execution_count": 4,
   "metadata": {},
   "outputs": [],
   "source": [
    "import pandas as pd\n",
    "import sys\n",
    "sys.path.append('../tools/')\n",
    "import experiment"
   ]
  },
  {
   "cell_type": "markdown",
   "metadata": {},
   "source": [
    "## Specifying datasets to download"
   ]
  },
  {
   "cell_type": "markdown",
   "metadata": {},
   "source": [
    "[Cellxgene Datasets](https://cellxgene.cziscience.com/datasets) filtered by assay = Visium Spatial Gene Expression and tissue = heart, then each datasets id manually copied into experiments.csv"
   ]
  },
  {
   "cell_type": "code",
   "execution_count": 5,
   "metadata": {},
   "outputs": [
    {
     "data": {
      "text/plain": [
       "['ffa80f3c-f779-49a2-9a7e-275089ece6e2',\n",
       " 'ff9fbe4a-f353-4eff-9e3d-1edfde5179ac',\n",
       " 'fdf7002a-97d0-4eea-9700-e7d325f074cb',\n",
       " 'fca1bb0b-76c9-4422-84b7-c225e2c6a3e4',\n",
       " 'f5dc5434-cd48-4389-a09c-7189dad6d0b1',\n",
       " 'f3d00dc9-7aa7-41a2-be9d-3f44ccedf091',\n",
       " 'ede3a7e3-d0e4-4d52-ae4a-ffce27a21f4d',\n",
       " 'e83e7e66-fb65-439e-acdd-719a029c35b3',\n",
       " 'e7b3fd4a-9011-4012-94da-0f6881cd196f',\n",
       " 'e5177f20-faad-4e56-9a9d-98f1ae191914',\n",
       " 'd909afe2-712d-48cf-ac1a-1ade6afc5c70',\n",
       " 'd20d13ee-51b7-4069-81a4-ac878cb2f4fe',\n",
       " 'd09fce93-63ae-43a9-ae91-55fdd6464d13',\n",
       " 'c3bd52ad-59f1-4fb7-8613-b28f8c484e3b',\n",
       " 'bf136de7-d7fc-4f80-9d43-c23b562d6907',\n",
       " 'b70d8f9a-9ff8-4782-82ab-491d35131633',\n",
       " 'ae5b0a68-c7b7-4a3f-8168-06de46247429',\n",
       " 'adf84486-0c65-49a8-8c89-75995696d906',\n",
       " 'a5385c7b-2c96-44b8-a2a3-62968959b4cb',\n",
       " 'a5240c4d-ec55-4102-af91-efe9a0631473',\n",
       " 'a4c25168-0814-4840-be6b-911c2a4bad8a',\n",
       " 'a2a45b96-c77b-4e12-b082-b84c946eebbb',\n",
       " '9ee9a477-cc0d-4722-b4f2-1e1bd0508cd0',\n",
       " '9ebcf88a-71ef-469b-90cf-5125e61c62ec',\n",
       " '96fc1557-5641-4b67-88ee-ac293b00422f',\n",
       " '8ccd6293-baad-49bd-a08e-4a024dffbbc1',\n",
       " '8a2dd4a0-05e7-41ff-ae73-d2093f8f5982',\n",
       " '8272a2bc-fc5c-4da2-9f08-7227d6c0197f',\n",
       " '82035ff8-361d-461a-961c-287293f1b98a',\n",
       " '7713bceb-40ba-4fae-b818-3d9bd282a1c0',\n",
       " '6984e55f-df3c-4518-9806-c68ee3792248',\n",
       " '5f381a0b-9da3-4b6b-ae82-3e4fc21c209e',\n",
       " '5dea55a5-09f7-4139-ba65-b2503d0ba2c4',\n",
       " '5d7e92f7-3115-49d9-8a26-bccd09d1b27d',\n",
       " '5d736e36-4611-4d48-b8cd-e0ba159a169e',\n",
       " '4c3f9fcf-8979-4417-8f25-15c6934368d8',\n",
       " '4b84187e-7881-4c3c-81ec-890429a68cee',\n",
       " '44dd34da-2d71-4452-98ed-bcebe707be6f',\n",
       " '3ad09eef-f78b-426e-ac7e-f05b5c10242d',\n",
       " '3511dc36-90a1-4b08-a182-f542d982bb1d',\n",
       " '2ebbb214-8635-49e3-85e9-9ccf8e2accd3',\n",
       " '2df1fb64-9ee7-4043-b5e7-2a65592411bb',\n",
       " '2c45cd92-4814-423b-b360-561ded1afb05',\n",
       " '265962de-ca4d-40a7-8720-920b341516c5',\n",
       " '23c0f030-9727-4522-a539-88417d65c04b',\n",
       " '1fcf9ac3-c582-404b-82c9-59564bbb8eea',\n",
       " '1b408037-0e53-4215-91fa-587cac50c323',\n",
       " '122fa6c1-d1be-420c-8b00-a18323e89f7a',\n",
       " '059fbf28-8cd1-4b4d-9cef-db058a3f4d84',\n",
       " '05950fae-f5ac-429e-97fd-bf3836c22262',\n",
       " '0364e79d-713b-48ca-80e7-cf9a99a28690',\n",
       " '003a7df5-7656-4e39-89b5-69a82ac2bd98',\n",
       " 'e8329236-6b97-4611-97b2-fb703ad2ec15',\n",
       " 'db19de67-75db-4a02-a7c8-c0872f21a7b3',\n",
       " 'cd5f5b4e-955c-451c-938a-7e331d127d2d',\n",
       " 'cbde1419-31af-4d15-9be1-c5dbc11f2a63',\n",
       " 'afe46d94-8818-4e0b-b2a4-899e11b1203a',\n",
       " 'ab66d02b-a780-4e91-8fbc-981023c1469f',\n",
       " 'a680087a-3f0e-4ee8-8a70-a86adbccff11',\n",
       " 'a33dae94-db20-420e-910f-c2a53e2c276c',\n",
       " '9c0a89ca-67b8-453f-9002-efbeb9bc136a',\n",
       " '9b4e36fd-c535-4e37-b3eb-e572fb50c5f0',\n",
       " '9a6a5d8f-dccc-4e81-b92c-abf6c50c0f6e',\n",
       " '95422174-456a-48ba-95c4-3d3208aab481',\n",
       " '88709fcb-b88c-4920-a986-8ced35018dee',\n",
       " '82eacb5f-a974-4bfb-ab6f-6560dd19c3db',\n",
       " '800bae11-581b-4a7c-88b6-22be7e80db62',\n",
       " '75804f12-c885-421b-b2f0-b64864c6bc9a',\n",
       " '73bf1c1a-6e02-4ec6-9b3d-263b2e372237',\n",
       " '6ba0e1e8-02e9-4724-b7bc-33048ca3296d',\n",
       " '6530c8b5-beaf-45f3-9d99-e9507f1d5490',\n",
       " '65213954-e8dd-4efb-984b-d4b91f5d4f6a',\n",
       " '616ceaa9-ff76-4ee9-a754-3140042efee1',\n",
       " '60e9cb7a-7536-4294-9378-9cd294961587',\n",
       " '570098e3-bfa4-49d0-ad51-40f79d185577',\n",
       " '5480ae73-a12c-41ad-b10d-69a671502553',\n",
       " '1f2871a8-3020-4ac4-8b36-fc09bcbb7885',\n",
       " '1f196854-14e6-4446-9536-297b1f8d8852',\n",
       " '1dcbb4d6-331b-4e78-ac10-e54aa821d355']"
      ]
     },
     "execution_count": 5,
     "metadata": {},
     "output_type": "execute_result"
    }
   ],
   "source": [
    "list(pd.read_csv('experiments.csv')['dataset_id'])"
   ]
  },
  {
   "cell_type": "markdown",
   "metadata": {},
   "source": [
    "## Downloading every dataset"
   ]
  },
  {
   "cell_type": "code",
   "execution_count": 3,
   "metadata": {},
   "outputs": [],
   "source": [
    "experiment_collection = experiment.Experiment_Collection(\n",
    "    dataset_ids_csv='experiments.csv',\n",
    "    h5ad_folder='../.data/h5ad_files/',\n",
    ")"
   ]
  }
 ],
 "metadata": {
  "kernelspec": {
   "display_name": "cellxgene-env",
   "language": "python",
   "name": "python3"
  },
  "language_info": {
   "codemirror_mode": {
    "name": "ipython",
    "version": 3
   },
   "file_extension": ".py",
   "mimetype": "text/x-python",
   "name": "python",
   "nbconvert_exporter": "python",
   "pygments_lexer": "ipython3",
   "version": "3.10.14"
  }
 },
 "nbformat": 4,
 "nbformat_minor": 2
}
